{
 "cells": [
  {
   "cell_type": "markdown",
   "metadata": {},
   "source": [
    "## Data Preparation"
   ]
  },
  {
   "cell_type": "code",
   "execution_count": 13,
   "metadata": {},
   "outputs": [],
   "source": [
    "# Import necessary libraries\n",
    "import pandas as pd\n",
    "import numpy as np\n",
    "import matplotlib.pyplot as plt\n",
    "import seaborn as sns\n",
    "from sklearn.preprocessing import StandardScaler, LabelEncoder\n",
    "from sklearn.impute import SimpleImputer\n",
    "from sklearn.model_selection import train_test_split\n",
    "from sklearn.linear_model import LogisticRegression\n",
    "from sklearn.ensemble import RandomForestClassifier\n",
    "from sklearn.metrics import classification_report\n",
    "from sklearn.tree import DecisionTreeClassifier\n",
    "from sklearn.ensemble import GradientBoostingClassifier\n",
    "from sklearn.neural_network import MLPClassifier\n",
    "import mlflow\n",
    "import mlflow.sklearn\n",
    "import warnings\n",
    "\n",
    "# Suppress warnings\n",
    "warnings.filterwarnings('ignore')\n",
    "\n",
    "# Set plot style for better visuals\n",
    "sns.set(style=\"whitegrid\")\n"
   ]
  },
  {
   "cell_type": "code",
   "execution_count": 14,
   "metadata": {},
   "outputs": [],
   "source": [
    "# Load the datasets\n",
    "fraud_data = pd.read_csv('../data/cleaned_data_1.csv')\n",
    "credit_data = pd.read_csv('../data/cleaned_data_2.csv')"
   ]
  },
  {
   "cell_type": "code",
   "execution_count": null,
   "metadata": {},
   "outputs": [
    {
     "name": "stdout",
     "output_type": "stream",
     "text": [
      "(array([0, 1]), array([125849,  12997]))\n",
      "(array([0, 1]), array([283253,    473]))\n"
     ]
    }
   ],
   "source": [
    "# Prepare data for the model (e-commerce)\n",
    "X1 = fraud_data.drop(columns=['class'])  \n",
    "X2 = credit_data.drop(columns=['Class'])  \n",
    "\n",
    "y1 = fraud_data['class']  \n",
    "y2 = credit_data['Class']  \n",
    "\n",
    "\n",
    "print(np.unique(y1, return_counts=True))\n",
    "print(np.unique(y2, return_counts=True))"
   ]
  },
  {
   "cell_type": "code",
   "execution_count": 17,
   "metadata": {},
   "outputs": [],
   "source": [
    "X_train1, X_test1, y_train1, y_test1 = train_test_split(X1, y1, test_size=0.2, random_state=42)\n",
    "\n",
    "X_train2, X_test2, y_train2, y_test2 = train_test_split(X2, y2, test_size=0.2, random_state=42)\n"
   ]
  },
  {
   "cell_type": "code",
   "execution_count": null,
   "metadata": {},
   "outputs": [],
   "source": [
    "from sklearn.preprocessing import LabelEncoder, OneHotEncoder\n",
    "\n",
    "# Check for non-numeric columns in X_train1\n",
    "non_numeric_columns = X_train1.select_dtypes(include=['object']).columns\n",
    "print(\"Non-numeric columns:\", non_numeric_columns)\n",
    "\n",
    "# Convert categorical columns to numeric (if any)\n",
    "for column in non_numeric_columns:\n",
    "    # If it's a binary categorical column (like 'sex'), use LabelEncoder\n",
    "    if len(X_train1[column].unique()) <= 2:\n",
    "        label_encoder = LabelEncoder()\n",
    "        X_train1[column] = label_encoder.fit_transform(X_train1[column])\n",
    "        X_test1[column] = label_encoder.transform(X_test1[column])\n",
    "    else:\n",
    "        # For columns with more than two categories, use OneHotEncoder\n",
    "        X_train1 = pd.get_dummies(X_train1, columns=[column], drop_first=True)\n",
    "        X_test1 = pd.get_dummies(X_test1, columns=[column], drop_first=True)\n",
    "\n",
    "# Now fit the Logistic Regression model\n",
    "log_reg = LogisticRegression(C=1, solver='liblinear')\n",
    "log_reg.fit(X_train1, y_train1)\n",
    "y_pred_log_reg = log_reg.predict(X_test1)\n",
    "\n",
    "# Print classification report\n",
    "print(\"Logistic Regression (fraud data):\")\n",
    "print(classification_report(y_test1, y_pred_log_reg))\n"
   ]
  },
  {
   "cell_type": "code",
   "execution_count": 27,
   "metadata": {},
   "outputs": [
    {
     "name": "stdout",
     "output_type": "stream",
     "text": [
      "Logistic Regression (fraud data):\n",
      "              precision    recall  f1-score   support\n",
      "\n",
      "           0       0.91      1.00      0.95     25193\n",
      "           1       0.00      0.00      0.00      2577\n",
      "\n",
      "    accuracy                           0.91     27770\n",
      "   macro avg       0.45      0.50      0.48     27770\n",
      "weighted avg       0.82      0.91      0.86     27770\n",
      "\n"
     ]
    }
   ],
   "source": [
    "# Logistic Regression\n",
    "from sklearn.linear_model import LogisticRegression\n",
    "log_reg = LogisticRegression(C=1, solver='liblinear')\n",
    "log_reg.fit(X_train1, y_train1)\n",
    "y_pred_log_reg = log_reg.predict(X_test1)\n",
    "print(\"Logistic Regression (fraud data):\")\n",
    "print(classification_report(y_test1, y_pred_log_reg))"
   ]
  },
  {
   "cell_type": "code",
   "execution_count": 30,
   "metadata": {},
   "outputs": [
    {
     "name": "stdout",
     "output_type": "stream",
     "text": [
      "Decision Tree (fraud data):\n",
      "              precision    recall  f1-score   support\n",
      "\n",
      "           0       0.96      0.94      0.95     25193\n",
      "           1       0.50      0.58      0.54      2577\n",
      "\n",
      "    accuracy                           0.91     27770\n",
      "   macro avg       0.73      0.76      0.74     27770\n",
      "weighted avg       0.91      0.91      0.91     27770\n",
      "\n"
     ]
    }
   ],
   "source": [
    "# Decision Tree Classifier\n",
    "dt_clf = DecisionTreeClassifier(random_state=42)\n",
    "dt_clf.fit(X_train1, y_train1)\n",
    "y_pred_dt = dt_clf.predict(X_test1)\n",
    "print(\"Decision Tree (fraud data):\")\n",
    "print(classification_report(y_test1, y_pred_dt))"
   ]
  },
  {
   "cell_type": "code",
   "execution_count": 31,
   "metadata": {},
   "outputs": [
    {
     "name": "stdout",
     "output_type": "stream",
     "text": [
      "Random Forest (fraud data):\n",
      "              precision    recall  f1-score   support\n",
      "\n",
      "           0       0.96      1.00      0.98     25193\n",
      "           1       1.00      0.55      0.71      2577\n",
      "\n",
      "    accuracy                           0.96     27770\n",
      "   macro avg       0.98      0.77      0.84     27770\n",
      "weighted avg       0.96      0.96      0.95     27770\n",
      "\n"
     ]
    }
   ],
   "source": [
    "# Random Forest Classifier (already implemented)\n",
    "rf_clf = RandomForestClassifier(n_estimators=30, max_depth=3)\n",
    "rf_clf.fit(X_train1, y_train1)\n",
    "y_pred_rf = rf_clf.predict(X_test1)\n",
    "print(\"Random Forest (fraud data):\")\n",
    "print(classification_report(y_test1, y_pred_rf))"
   ]
  },
  {
   "cell_type": "code",
   "execution_count": 32,
   "metadata": {},
   "outputs": [
    {
     "name": "stdout",
     "output_type": "stream",
     "text": [
      "Gradient Boosting (fraud data):\n",
      "              precision    recall  f1-score   support\n",
      "\n",
      "           0       0.96      1.00      0.98     25193\n",
      "           1       1.00      0.55      0.71      2577\n",
      "\n",
      "    accuracy                           0.96     27770\n",
      "   macro avg       0.98      0.77      0.84     27770\n",
      "weighted avg       0.96      0.96      0.95     27770\n",
      "\n"
     ]
    }
   ],
   "source": [
    "# Gradient Boosting Classifier\n",
    "gb_clf = GradientBoostingClassifier(n_estimators=50, learning_rate=0.1, max_depth=3, random_state=42)\n",
    "gb_clf.fit(X_train1, y_train1)\n",
    "y_pred_gb = gb_clf.predict(X_test1)\n",
    "print(\"Gradient Boosting (fraud data):\")\n",
    "print(classification_report(y_test1, y_pred_gb))"
   ]
  },
  {
   "cell_type": "code",
   "execution_count": 34,
   "metadata": {},
   "outputs": [
    {
     "name": "stdout",
     "output_type": "stream",
     "text": [
      "MLP Classifier (fraud data):\n",
      "              precision    recall  f1-score   support\n",
      "\n",
      "           0       0.91      1.00      0.95     25193\n",
      "           1       0.10      0.00      0.00      2577\n",
      "\n",
      "    accuracy                           0.91     27770\n",
      "   macro avg       0.50      0.50      0.48     27770\n",
      "weighted avg       0.83      0.91      0.86     27770\n",
      "\n"
     ]
    }
   ],
   "source": [
    "# Multi-Layer Perceptron (MLP)\n",
    "mlp_clf = MLPClassifier(hidden_layer_sizes=(100,), max_iter=500, random_state=42)\n",
    "mlp_clf.fit(X_train1, y_train1)\n",
    "y_pred_mlp = mlp_clf.predict(X_test1)\n",
    "print(\"MLP Classifier (fraud data):\")\n",
    "print(classification_report(y_test1, y_pred_mlp))"
   ]
  },
  {
   "cell_type": "code",
   "execution_count": null,
   "metadata": {},
   "outputs": [],
   "source": [
    "# RNN Model\n",
    "from keras.layers import SimpleRNN\n",
    "rnn_model = Sequential()\n",
    "rnn_model.add(SimpleRNN(64, activation='relu', input_shape=(X_train1.shape[1], 1)))\n",
    "rnn_model.add(Dense(1, activation='sigmoid'))\n",
    "rnn_model.compile(optimizer='adam', loss='binary_crossentropy', metrics=['accuracy'])\n",
    "rnn_model.fit(X_train1.values.reshape(-1, X_train1.shape[1], 1), y_train1, epochs=10, batch_size=32)\n",
    "y_pred_rnn = (rnn_model.predict(X_test1.values.reshape(-1, X_test1.shape[1], 1)) > 0.5).astype(int)\n",
    "print(\"RNN (fraud data):\")\n",
    "print(classification_report(y_test1, y_pred_rnn))"
   ]
  },
  {
   "cell_type": "markdown",
   "metadata": {},
   "source": [
    ".............................................."
   ]
  },
  {
   "cell_type": "markdown",
   "metadata": {},
   "source": [
    "## Experiments"
   ]
  },
  {
   "cell_type": "code",
   "execution_count": 33,
   "metadata": {},
   "outputs": [],
   "source": [
    "datasets = {\n",
    "    \"fraud_data\": (X_train1, y_train1, X_test1, y_test1),\n",
    "    \"credit_data\": (X_train2, y_train2, X_test2, y_test2),\n",
    "}"
   ]
  },
  {
   "cell_type": "code",
   "execution_count": 2,
   "metadata": {},
   "outputs": [
    {
     "ename": "NameError",
     "evalue": "name 'LogisticRegression' is not defined",
     "output_type": "error",
     "traceback": [
      "\u001b[1;31m---------------------------------------------------------------------------\u001b[0m",
      "\u001b[1;31mNameError\u001b[0m                                 Traceback (most recent call last)",
      "Cell \u001b[1;32mIn[2], line 6\u001b[0m\n\u001b[0;32m      1\u001b[0m \u001b[38;5;66;03m# Defining each model\u001b[39;00m\n\u001b[0;32m      2\u001b[0m models \u001b[38;5;241m=\u001b[39m [\n\u001b[0;32m      3\u001b[0m     \u001b[38;5;66;03m# Logistic Regression\u001b[39;00m\n\u001b[0;32m      4\u001b[0m     (\n\u001b[0;32m      5\u001b[0m         \u001b[38;5;124m\"\u001b[39m\u001b[38;5;124mLogistic Regression\u001b[39m\u001b[38;5;124m\"\u001b[39m, \n\u001b[1;32m----> 6\u001b[0m         \u001b[43mLogisticRegression\u001b[49m(C\u001b[38;5;241m=\u001b[39m\u001b[38;5;241m1\u001b[39m, solver\u001b[38;5;241m=\u001b[39m\u001b[38;5;124m'\u001b[39m\u001b[38;5;124mliblinear\u001b[39m\u001b[38;5;124m'\u001b[39m)\n\u001b[0;32m      7\u001b[0m     ),\n\u001b[0;32m      8\u001b[0m     \n\u001b[0;32m      9\u001b[0m     \u001b[38;5;66;03m# Random Forest\u001b[39;00m\n\u001b[0;32m     10\u001b[0m     (\n\u001b[0;32m     11\u001b[0m         \u001b[38;5;124m\"\u001b[39m\u001b[38;5;124mRandom Forest\u001b[39m\u001b[38;5;124m\"\u001b[39m, \n\u001b[0;32m     12\u001b[0m         RandomForestClassifier(n_estimators\u001b[38;5;241m=\u001b[39m\u001b[38;5;241m30\u001b[39m, max_depth\u001b[38;5;241m=\u001b[39m\u001b[38;5;241m3\u001b[39m)\n\u001b[0;32m     13\u001b[0m     ),\n\u001b[0;32m     14\u001b[0m \n\u001b[0;32m     15\u001b[0m     \u001b[38;5;66;03m# Decision Tree\u001b[39;00m\n\u001b[0;32m     16\u001b[0m     (\n\u001b[0;32m     17\u001b[0m         \u001b[38;5;124m\"\u001b[39m\u001b[38;5;124mDecision Tree\u001b[39m\u001b[38;5;124m\"\u001b[39m, \n\u001b[0;32m     18\u001b[0m         DecisionTreeClassifier(max_depth\u001b[38;5;241m=\u001b[39m\u001b[38;5;241m5\u001b[39m)\n\u001b[0;32m     19\u001b[0m     ),\n\u001b[0;32m     20\u001b[0m     \n\u001b[0;32m     21\u001b[0m     \u001b[38;5;66;03m# Multi-Layer Perceptron (MLP)\u001b[39;00m\n\u001b[0;32m     22\u001b[0m     (\n\u001b[0;32m     23\u001b[0m         \u001b[38;5;124m\"\u001b[39m\u001b[38;5;124mMLP Classifier\u001b[39m\u001b[38;5;124m\"\u001b[39m, \n\u001b[0;32m     24\u001b[0m         MLPClassifier(hidden_layer_sizes\u001b[38;5;241m=\u001b[39m(\u001b[38;5;241m100\u001b[39m,), max_iter\u001b[38;5;241m=\u001b[39m\u001b[38;5;241m300\u001b[39m)\n\u001b[0;32m     25\u001b[0m     ),\n\u001b[0;32m     26\u001b[0m     \n\u001b[0;32m     27\u001b[0m     \u001b[38;5;66;03m# # Convolutional Neural Network (CNN)\u001b[39;00m\n\u001b[0;32m     28\u001b[0m     \u001b[38;5;66;03m# (\u001b[39;00m\n\u001b[0;32m     29\u001b[0m     \u001b[38;5;66;03m#     \"CNN\", \u001b[39;00m\n\u001b[0;32m     30\u001b[0m     \u001b[38;5;66;03m#     Sequential([\u001b[39;00m\n\u001b[0;32m     31\u001b[0m     \u001b[38;5;66;03m#         Conv2D(32, kernel_size=(3, 3), activation='relu', input_shape=(28, 28, 1)),\u001b[39;00m\n\u001b[0;32m     32\u001b[0m     \u001b[38;5;66;03m#         Flatten(),\u001b[39;00m\n\u001b[0;32m     33\u001b[0m     \u001b[38;5;66;03m#         Dense(128, activation='relu'),\u001b[39;00m\n\u001b[0;32m     34\u001b[0m     \u001b[38;5;66;03m#         Dense(1 , activation='sigmoid')\u001b[39;00m\n\u001b[0;32m     35\u001b[0m     \u001b[38;5;66;03m#     ])\u001b[39;00m\n\u001b[0;32m     36\u001b[0m     \u001b[38;5;66;03m# ),\u001b[39;00m\n\u001b[0;32m     37\u001b[0m     \n\u001b[0;32m     38\u001b[0m     \u001b[38;5;66;03m# # Recurrent Neural Network (RNN)\u001b[39;00m\n\u001b[0;32m     39\u001b[0m     \u001b[38;5;66;03m# (\u001b[39;00m\n\u001b[0;32m     40\u001b[0m     \u001b[38;5;66;03m#     \"RNN\", \u001b[39;00m\n\u001b[0;32m     41\u001b[0m     \u001b[38;5;66;03m#     Sequential([\u001b[39;00m\n\u001b[0;32m     42\u001b[0m     \u001b[38;5;66;03m#         SimpleRNN(50, input_shape=(100, 1), activation='relu'),\u001b[39;00m\n\u001b[0;32m     43\u001b[0m     \u001b[38;5;66;03m#         Dense(1, activation='sigmoid')\u001b[39;00m\n\u001b[0;32m     44\u001b[0m     \u001b[38;5;66;03m#     ])\u001b[39;00m\n\u001b[0;32m     45\u001b[0m     \u001b[38;5;66;03m# ),\u001b[39;00m\n\u001b[0;32m     46\u001b[0m     \n\u001b[0;32m     47\u001b[0m     \u001b[38;5;66;03m# # Long Short-Term Memory (LSTM)\u001b[39;00m\n\u001b[0;32m     48\u001b[0m     \u001b[38;5;66;03m# (\u001b[39;00m\n\u001b[0;32m     49\u001b[0m     \u001b[38;5;66;03m#     \"LSTM\", \u001b[39;00m\n\u001b[0;32m     50\u001b[0m     \u001b[38;5;66;03m#     Sequential([\u001b[39;00m\n\u001b[0;32m     51\u001b[0m     \u001b[38;5;66;03m#         LSTM(50, input_shape=(100, 1), activation='relu'),\u001b[39;00m\n\u001b[0;32m     52\u001b[0m     \u001b[38;5;66;03m#         Dense(1, activation='sigmoid')\u001b[39;00m\n\u001b[0;32m     53\u001b[0m     \u001b[38;5;66;03m#     ])\u001b[39;00m\n\u001b[0;32m     54\u001b[0m     \u001b[38;5;66;03m# )\u001b[39;00m\n\u001b[0;32m     55\u001b[0m ]\n",
      "\u001b[1;31mNameError\u001b[0m: name 'LogisticRegression' is not defined"
     ]
    }
   ],
   "source": [
    "# Defining each model\n",
    "models = [\n",
    "    # Logistic Regression\n",
    "    (\n",
    "        \"Logistic Regression\", \n",
    "        LogisticRegression(C=1, solver='liblinear')\n",
    "    ),\n",
    "    \n",
    "    # Random Forest\n",
    "    (\n",
    "        \"Random Forest\", \n",
    "        RandomForestClassifier(n_estimators=30, max_depth=3)\n",
    "    ),\n",
    "\n",
    "    # Decision Tree\n",
    "    (\n",
    "        \"Decision Tree\", \n",
    "        DecisionTreeClassifier(max_depth=5)\n",
    "    ),\n",
    "    \n",
    "    # Multi-Layer Perceptron (MLP)\n",
    "    (\n",
    "        \"MLP Classifier\", \n",
    "        MLPClassifier(hidden_layer_sizes=(100,), max_iter=300)\n",
    "    ),\n",
    "    \n",
    "    # # Convolutional Neural Network (CNN)\n",
    "    # (\n",
    "    #     \"CNN\", \n",
    "    #     Sequential([\n",
    "    #         Conv2D(32, kernel_size=(3, 3), activation='relu', input_shape=(28, 28, 1)),\n",
    "    #         Flatten(),\n",
    "    #         Dense(128, activation='relu'),\n",
    "    #         Dense(1 , activation='sigmoid')\n",
    "    #     ])\n",
    "    # ),\n",
    "    \n",
    "    # # Recurrent Neural Network (RNN)\n",
    "    # (\n",
    "    #     \"RNN\", \n",
    "    #     Sequential([\n",
    "    #         SimpleRNN(50, input_shape=(100, 1), activation='relu'),\n",
    "    #         Dense(1, activation='sigmoid')\n",
    "    #     ])\n",
    "    # ),\n",
    "    \n",
    "    # # Long Short-Term Memory (LSTM)\n",
    "    # (\n",
    "    #     \"LSTM\", \n",
    "    #     Sequential([\n",
    "    #         LSTM(50, input_shape=(100, 1), activation='relu'),\n",
    "    #         Dense(1, activation='sigmoid')\n",
    "    #     ])\n",
    "    # )\n",
    "]\n"
   ]
  }
 ],
 "metadata": {
  "kernelspec": {
   "display_name": "week8venv",
   "language": "python",
   "name": "python3"
  },
  "language_info": {
   "codemirror_mode": {
    "name": "ipython",
    "version": 3
   },
   "file_extension": ".py",
   "mimetype": "text/x-python",
   "name": "python",
   "nbconvert_exporter": "python",
   "pygments_lexer": "ipython3",
   "version": "3.12.0"
  }
 },
 "nbformat": 4,
 "nbformat_minor": 2
}
